{
 "cells": [
  {
   "cell_type": "code",
   "execution_count": 31,
   "id": "a465f24e-fa1a-4af8-948f-82495666f5ed",
   "metadata": {},
   "outputs": [
    {
     "name": "stdout",
     "output_type": "stream",
     "text": [
      "Текущая рабочая директория: /Users/kseniazyranova\n"
     ]
    }
   ],
   "source": [
    "import os\n",
    "print(\"Текущая рабочая директория:\", os.getcwd())"
   ]
  },
  {
   "cell_type": "code",
   "execution_count": 22,
   "id": "65265578-956d-4fb8-9f04-b246879f9cdc",
   "metadata": {},
   "outputs": [
    {
     "name": "stdout",
     "output_type": "stream",
     "text": [
      "============ TRAIN DATA ============\n",
      "   id  CustomerId     Surname  CreditScore Geography  Gender   Age  Tenure  \\\n",
      "0   0  15653521.0  Nkemakonam        667.0   Germany    Male  33.0     3.0   \n",
      "1   1  15699005.0   Chiekwugo        614.0    France  Female  31.0     2.0   \n",
      "2   2  15656912.0      Chiang        683.0   Germany  Female  24.0     6.0   \n",
      "3   3  15700772.0      Ch'ang        678.0    France  Female  38.0     9.0   \n",
      "4   4  15583850.0      Chiang        588.0     Spain  Female  39.0     3.0   \n",
      "\n",
      "     Balance  NumOfProducts  HasCrCard  IsActiveMember  EstimatedSalary  \\\n",
      "0  131769.04            1.0        1.0             1.0        162719.69   \n",
      "1  110615.47            1.0        1.0             1.0        181879.56   \n",
      "2  115074.02            2.0        1.0             0.0        109688.82   \n",
      "3       0.00            1.0        1.0             0.0        122823.84   \n",
      "4       0.00            2.0        1.0             1.0        136910.18   \n",
      "\n",
      "   Exited  \n",
      "0     0.0  \n",
      "1     0.0  \n",
      "2     0.0  \n",
      "3     1.0  \n",
      "4     0.0  \n",
      "                 id    CustomerId   CreditScore           Age        Tenure  \\\n",
      "count  15000.000000  1.500000e+04  15000.000000  15000.000000  15000.000000   \n",
      "mean    7499.500000  1.570226e+07    658.607333     37.721667      5.030800   \n",
      "std     4330.271354  1.146899e+06     72.428993      8.167030      2.800876   \n",
      "min        0.000000  1.556571e+07    431.000000     18.000000      0.000000   \n",
      "25%     3749.750000  1.563652e+07    602.000000     32.000000      3.000000   \n",
      "50%     7499.500000  1.569018e+07    663.000000     37.000000      5.000000   \n",
      "75%    11249.250000  1.575758e+07    708.000000     42.000000      7.000000   \n",
      "max    14999.000000  1.558890e+08    850.000000     74.000000     10.000000   \n",
      "\n",
      "             Balance  NumOfProducts     HasCrCard  IsActiveMember  \\\n",
      "count   15000.000000   15000.000000  15000.000000    15000.000000   \n",
      "mean    43100.479284       1.581200      0.789467        0.495400   \n",
      "std     59903.132500       0.527976      0.407701        0.499996   \n",
      "min         0.000000       1.000000      0.000000        0.000000   \n",
      "25%         0.000000       1.000000      1.000000        0.000000   \n",
      "50%         0.000000       2.000000      1.000000        0.000000   \n",
      "75%    110125.830000       2.000000      1.000000        1.000000   \n",
      "max    205962.000000       4.000000      1.000000        1.000000   \n",
      "\n",
      "       EstimatedSalary        Exited  \n",
      "count     15000.000000  15000.000000  \n",
      "mean     117824.489347      0.207867  \n",
      "std       45487.690876      0.405794  \n",
      "min          11.580000      0.000000  \n",
      "25%       83419.490000      0.000000  \n",
      "50%      123570.900000      0.000000  \n",
      "75%      157097.090000      0.000000  \n",
      "max      199953.330000      1.000000  \n",
      "######### TEST DATA #########\n",
      "      id  CustomerId           Surname  CreditScore Geography  Gender   Age  \\\n",
      "0  15000  15646539.0  Onyemauchechukwu        821.0     Spain    Male  32.0   \n",
      "1  15001  15628144.0          Chikwado        634.0    France    Male  28.0   \n",
      "2  15002  15687953.0              Ting        713.0    France    Male  42.0   \n",
      "3  15003  15585067.0            Achebe        611.0    France  Female  38.0   \n",
      "4  15004  15746190.0   Chiazagomekpere        724.0    France    Male  29.0   \n",
      "\n",
      "   Tenure    Balance  NumOfProducts  HasCrCard  IsActiveMember  \\\n",
      "0     3.0       0.00            1.0        1.0             1.0   \n",
      "1     1.0  129299.28            1.0        1.0             0.0   \n",
      "2     1.0       0.00            2.0        1.0             1.0   \n",
      "3     3.0       0.00            1.0        0.0             1.0   \n",
      "4     9.0       0.00            1.0        1.0             1.0   \n",
      "\n",
      "   EstimatedSalary  \n",
      "0        120893.85  \n",
      "1        179655.85  \n",
      "2         80552.12  \n",
      "3        151335.24  \n",
      "4         88724.49  \n",
      "                id    CustomerId  CreditScore           Age       Tenure  \\\n",
      "count  10000.00000  1.000000e+04  10000.00000  10000.000000  10000.00000   \n",
      "mean   19999.50000  1.584729e+07    659.12130     37.689400      5.04980   \n",
      "std     2886.89568  1.548435e+07     74.54056      8.201381      2.79791   \n",
      "min    15000.00000  1.556625e+07    431.00000     18.000000      0.00000   \n",
      "25%    17499.75000  1.563493e+07    602.00000     32.000000      3.00000   \n",
      "50%    19999.50000  1.568920e+07    662.00000     37.000000      5.00000   \n",
      "75%    22499.25000  1.575787e+07    710.00000     42.000000      7.00000   \n",
      "max    24999.00000  1.564111e+09    850.00000     74.000000     10.00000   \n",
      "\n",
      "             Balance  NumOfProducts     HasCrCard  IsActiveMember  \\\n",
      "count   10000.000000   10000.000000  10000.000000    10000.000000   \n",
      "mean    42898.082204       1.593000      0.785000        0.495400   \n",
      "std     59816.984311       0.528941      0.410843        0.500004   \n",
      "min         0.000000       1.000000      0.000000        0.000000   \n",
      "25%         0.000000       1.000000      1.000000        0.000000   \n",
      "50%         0.000000       2.000000      1.000000        0.000000   \n",
      "75%    109975.597500       2.000000      1.000000        1.000000   \n",
      "max    187534.790000       4.000000      1.000000        1.000000   \n",
      "\n",
      "       EstimatedSalary  \n",
      "count     10000.000000  \n",
      "mean     117004.926454  \n",
      "std       46138.851564  \n",
      "min         110.790000  \n",
      "25%       82356.365000  \n",
      "50%      122951.355000  \n",
      "75%      155876.060000  \n",
      "max      199992.480000  \n"
     ]
    }
   ],
   "source": [
    "import pandas as pd\n",
    "\n",
    "df = pd.read_csv(\"/Users/kseniazyranova/Projects/BankChurn/data/train.csv\")\n",
    "test = pd.read_csv(\"/Users/kseniazyranova/Projects/BankChurn/data/test.csv\")\n",
    "\n",
    "\n",
    "print(\"============ TRAIN DATA ============\")\n",
    "print(df.head())\n",
    "print(df.describe())\n",
    "\n",
    "print(\"######### TEST DATA #########\")\n",
    "print(test.head())\n",
    "print(test.describe())\n",
    "\n",
    "\"\"\"\n",
    "15000 клиентов для обучения\n",
    "\n",
    "10000 клиетов для проверки\n",
    "\"\"\""
   ]
  },
  {
   "cell_type": "code",
   "execution_count": 23,
   "id": "c52825bf-a41f-4f8b-89a8-d6fdae96e0b4",
   "metadata": {},
   "outputs": [
    {
     "name": "stdout",
     "output_type": "stream",
     "text": [
      "<class 'pandas.core.frame.DataFrame'>\n",
      "RangeIndex: 15000 entries, 0 to 14999\n",
      "Data columns (total 14 columns):\n",
      " #   Column           Non-Null Count  Dtype  \n",
      "---  ------           --------------  -----  \n",
      " 0   id               15000 non-null  int64  \n",
      " 1   CustomerId       15000 non-null  float64\n",
      " 2   Surname          15000 non-null  object \n",
      " 3   CreditScore      15000 non-null  float64\n",
      " 4   Geography        15000 non-null  object \n",
      " 5   Gender           15000 non-null  object \n",
      " 6   Age              15000 non-null  float64\n",
      " 7   Tenure           15000 non-null  float64\n",
      " 8   Balance          15000 non-null  float64\n",
      " 9   NumOfProducts    15000 non-null  float64\n",
      " 10  HasCrCard        15000 non-null  float64\n",
      " 11  IsActiveMember   15000 non-null  float64\n",
      " 12  EstimatedSalary  15000 non-null  float64\n",
      " 13  Exited           15000 non-null  float64\n",
      "dtypes: float64(10), int64(1), object(3)\n",
      "memory usage: 1.6+ MB\n",
      "None\n",
      "<class 'pandas.core.frame.DataFrame'>\n",
      "RangeIndex: 10000 entries, 0 to 9999\n",
      "Data columns (total 13 columns):\n",
      " #   Column           Non-Null Count  Dtype  \n",
      "---  ------           --------------  -----  \n",
      " 0   id               10000 non-null  int64  \n",
      " 1   CustomerId       10000 non-null  float64\n",
      " 2   Surname          10000 non-null  object \n",
      " 3   CreditScore      10000 non-null  float64\n",
      " 4   Geography        10000 non-null  object \n",
      " 5   Gender           10000 non-null  object \n",
      " 6   Age              10000 non-null  float64\n",
      " 7   Tenure           10000 non-null  float64\n",
      " 8   Balance          10000 non-null  float64\n",
      " 9   NumOfProducts    10000 non-null  float64\n",
      " 10  HasCrCard        10000 non-null  float64\n",
      " 11  IsActiveMember   10000 non-null  float64\n",
      " 12  EstimatedSalary  10000 non-null  float64\n",
      "dtypes: float64(9), int64(1), object(3)\n",
      "memory usage: 1015.8+ KB\n",
      "None\n"
     ]
    }
   ],
   "source": [
    "print(df.info())\n",
    "print(test.info())"
   ]
  },
  {
   "cell_type": "code",
   "execution_count": null,
   "id": "fcb00b47-f035-4e02-aa8c-5c73590345ca",
   "metadata": {},
   "outputs": [],
   "source": [
    "ЧИСТИМ ДАННЫЕ"
   ]
  },
  {
   "cell_type": "code",
   "execution_count": 27,
   "id": "d80e189b-6a8c-4ff3-92af-89a1fd760d78",
   "metadata": {},
   "outputs": [
    {
     "name": "stdout",
     "output_type": "stream",
     "text": [
      "id                 0\n",
      "CustomerId         0\n",
      "Surname            0\n",
      "CreditScore        0\n",
      "Geography          0\n",
      "Gender             0\n",
      "Age                0\n",
      "Tenure             0\n",
      "Balance            0\n",
      "NumOfProducts      0\n",
      "HasCrCard          0\n",
      "IsActiveMember     0\n",
      "EstimatedSalary    0\n",
      "Exited             0\n",
      "dtype: int64\n",
      "id                 0\n",
      "CustomerId         0\n",
      "Surname            0\n",
      "CreditScore        0\n",
      "Geography          0\n",
      "Gender             0\n",
      "Age                0\n",
      "Tenure             0\n",
      "Balance            0\n",
      "NumOfProducts      0\n",
      "HasCrCard          0\n",
      "IsActiveMember     0\n",
      "EstimatedSalary    0\n",
      "dtype: int64\n"
     ]
    }
   ],
   "source": [
    "print(df.isnull().sum())\n",
    "print(test.isnull().sum())\n",
    "\n",
    "\"\"\"\n",
    "df.dropna()                     # Удалить все строки с пропусками\n",
    "df.dropna(subset=['column']) # Удалить строки с пропусками в конкретной колонке\n",
    "df.fillna(value)            # Заполнить пропуски значением\n",
    "df['column'].fillna(df['column'].mean())   # Заполнить средним\n",
    "df['column'].fillna(df['column'].median()) # Заполнить медианой\n",
    "df['column'].fillna(df['column'].mode()[0]) # Заполнить модой\n",
    "\"\"\""
   ]
  },
  {
   "cell_type": "code",
   "execution_count": null,
   "id": "0e40235e-f3e2-4151-b1d1-bf8053811220",
   "metadata": {},
   "outputs": [],
   "source": [
    "СМОТРИМ ВЫБРОСЫ "
   ]
  },
  {
   "cell_type": "code",
   "execution_count": 30,
   "id": "42e70584-9cfd-4fe5-b7b7-dfd0fb6d880a",
   "metadata": {},
   "outputs": [
    {
     "name": "stdout",
     "output_type": "stream",
     "text": [
      "count    15000.000000\n",
      "mean       658.607333\n",
      "std         72.428993\n",
      "min        431.000000\n",
      "25%        602.000000\n",
      "50%        663.000000\n",
      "75%        708.000000\n",
      "max        850.000000\n",
      "Name: CreditScore, dtype: float64\n"
     ]
    }
   ],
   "source": [
    "print(df['CreditScore'].describe())\n",
    "print(df['Age'].describe())\n",
    "print(df['Tenure'].describe())\n",
    "print(df['Balance'].describe())\n",
    "print(df['NumOfProducts'].describe())\n",
    "print(df['HasCrCard'].describe())\n",
    "print(df['HasCrCard'].describe())\n",
    "print(df['HasCrCard'].describe())\n"
   ]
  },
  {
   "cell_type": "code",
   "execution_count": null,
   "id": "1d2960d5-d156-4d9e-8c49-5f6ad99ab995",
   "metadata": {},
   "outputs": [],
   "source": [
    "print(df['HasCrCard'].describe())\n",
    "   id  CustomerId     Surname  CreditScore Geography  Gender   Age  Tenure  \\\n",
    "0   0  15653521.0  Nkemakonam        667.0   Germany    Male  33.0     3.0   \n",
    "1   1  15699005.0   Chiekwugo        614.0    France  Female  31.0     2.0   \n",
    "2   2  15656912.0      Chiang        683.0   Germany  Female  24.0     6.0   \n",
    "3   3  15700772.0      Ch'ang        678.0    France  Female  38.0     9.0   \n",
    "4   4  15583850.0      Chiang        588.0     Spain  Female  39.0     3.0   \n",
    "\n",
    "     Balance  NumOfProducts  HasCrCard  IsActiveMember  EstimatedSalary  \\\n",
    "0  131769.04            1.0        1.0             1.0        162719.69   \n",
    "1  110615.47            1.0        1.0             1.0        181879.56   \n",
    "2  115074.02            2.0        1.0             0.0        109688.82   \n",
    "3       0.00            1.0        1.0             0.0        122823.84   \n",
    "4       0.00            2.0        1.0             1.0        136910.18   \n",
    "\n",
    "   Exited "
   ]
  }
 ],
 "metadata": {
  "kernelspec": {
   "display_name": "Python 3 (ipykernel)",
   "language": "python",
   "name": "python3"
  },
  "language_info": {
   "codemirror_mode": {
    "name": "ipython",
    "version": 3
   },
   "file_extension": ".py",
   "mimetype": "text/x-python",
   "name": "python",
   "nbconvert_exporter": "python",
   "pygments_lexer": "ipython3",
   "version": "3.13.2"
  }
 },
 "nbformat": 4,
 "nbformat_minor": 5
}
